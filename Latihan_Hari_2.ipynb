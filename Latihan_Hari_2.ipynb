{
 "cells": [
  {
   "cell_type": "code",
   "execution_count": 1,
   "metadata": {},
   "outputs": [],
   "source": [
    "a = 3"
   ]
  },
  {
   "cell_type": "code",
   "execution_count": 2,
   "metadata": {},
   "outputs": [
    {
     "data": {
      "text/plain": [
       "3"
      ]
     },
     "execution_count": 2,
     "metadata": {},
     "output_type": "execute_result"
    }
   ],
   "source": [
    "a"
   ]
  },
  {
   "cell_type": "code",
   "execution_count": 4,
   "metadata": {},
   "outputs": [
    {
     "data": {
      "text/plain": [
       "False"
      ]
     },
     "execution_count": 4,
     "metadata": {},
     "output_type": "execute_result"
    }
   ],
   "source": [
    "a == 6"
   ]
  },
  {
   "cell_type": "code",
   "execution_count": 5,
   "metadata": {},
   "outputs": [],
   "source": [
    "is_two = a == 2"
   ]
  },
  {
   "cell_type": "code",
   "execution_count": 7,
   "metadata": {},
   "outputs": [
    {
     "data": {
      "text/plain": [
       "bool"
      ]
     },
     "execution_count": 7,
     "metadata": {},
     "output_type": "execute_result"
    }
   ],
   "source": [
    "type(is_two)"
   ]
  },
  {
   "cell_type": "markdown",
   "metadata": {},
   "source": [
    "# conditional"
   ]
  },
  {
   "cell_type": "code",
   "execution_count": 10,
   "metadata": {},
   "outputs": [
    {
     "name": "stdout",
     "output_type": "stream",
     "text": [
      "line ini dicetak\n",
      "ini juga\n"
     ]
    }
   ],
   "source": [
    "if True:\n",
    "    print(\"line ini dicetak\")\n",
    "    print(\"ini juga\")"
   ]
  },
  {
   "cell_type": "code",
   "execution_count": 14,
   "metadata": {},
   "outputs": [],
   "source": [
    "angka = 2\n",
    "cek = angka > 5\n",
    "if cek:\n",
    "    print(\"Angka lebih besar dari 5\")"
   ]
  },
  {
   "cell_type": "code",
   "execution_count": 52,
   "metadata": {},
   "outputs": [
    {
     "name": "stdout",
     "output_type": "stream",
     "text": [
      "Angka lebih kecil dari 5\n"
     ]
    }
   ],
   "source": [
    "angka = 5\n",
    "if angka > 5:\n",
    "    print(\"Angka lebih besar dari 5\")\n",
    "else:\n",
    "    print(\"Angka lebih kecil dari 5\")"
   ]
  },
  {
   "cell_type": "code",
   "execution_count": 80,
   "metadata": {},
   "outputs": [
    {
     "name": "stdout",
     "output_type": "stream",
     "text": [
      "Angka sama dengan 5\n"
     ]
    }
   ],
   "source": [
    "angka = 5\n",
    "if angka > 5:\n",
    "    print(\"Angka lebih besar dari 5\")\n",
    "elif angka < 5:\n",
    "    print(\"Angka kurang dari 5\")\n",
    "elif angka == 5:\n",
    "    print(\"Angka sama dengan 5\")"
   ]
  },
  {
   "cell_type": "code",
   "execution_count": 61,
   "metadata": {},
   "outputs": [
    {
     "name": "stdout",
     "output_type": "stream",
     "text": [
      "Bilangan Genap\n"
     ]
    }
   ],
   "source": [
    "# ganjil genap\n",
    "angka = 15532432312\n",
    "if angka % 2 != 0:\n",
    "    print(\"Bilangan Ganjil\")\n",
    "else:\n",
    "    print(\"Bilangan Genap\")"
   ]
  },
  {
   "cell_type": "code",
   "execution_count": 68,
   "metadata": {},
   "outputs": [],
   "source": [
    "hp = \"sony\"\n",
    "\n",
    "tempat_servis = ['xiaomi', 'samsung', 'oppo', 'vivo', 'sony']"
   ]
  },
  {
   "cell_type": "code",
   "execution_count": 65,
   "metadata": {},
   "outputs": [
    {
     "data": {
      "text/plain": [
       "False"
      ]
     },
     "execution_count": 65,
     "metadata": {},
     "output_type": "execute_result"
    }
   ],
   "source": [
    "hp in tempat_servis"
   ]
  },
  {
   "cell_type": "code",
   "execution_count": 69,
   "metadata": {},
   "outputs": [
    {
     "name": "stdout",
     "output_type": "stream",
     "text": [
      "Bisa diservis di sini\n"
     ]
    }
   ],
   "source": [
    "if hp in tempat_servis:\n",
    "    print(\"Bisa diservis di sini\")\n",
    "else:\n",
    "    print(\"Tidak bisa diservis di sini\")"
   ]
  },
  {
   "cell_type": "code",
   "execution_count": 74,
   "metadata": {},
   "outputs": [
    {
     "name": "stdout",
     "output_type": "stream",
     "text": [
      "Angka sama dengan 5\n",
      "Huruf Vokal\n"
     ]
    }
   ],
   "source": [
    "angka = 5\n",
    "huruf = 'a'\n",
    "\n",
    "if angka < 5:\n",
    "    print(\"Angka lebih kecil dari 5\")\n",
    "elif angka == 5:\n",
    "    print(\"Angka sama dengan 5\")\n",
    "    if huruf in 'aiueo':\n",
    "        print(\"Huruf Vokal\")\n",
    "    else:\n",
    "        print(\"Huruf Konsonan\")\n",
    "else:\n",
    "    print(\"Angka lebih besar dari 5\")"
   ]
  },
  {
   "cell_type": "code",
   "execution_count": 79,
   "metadata": {},
   "outputs": [
    {
     "data": {
      "text/plain": [
       "False"
      ]
     },
     "execution_count": 79,
     "metadata": {},
     "output_type": "execute_result"
    }
   ],
   "source": [
    "# operasi logika\n",
    "(a == 5) and (hp in tempat_servis)"
   ]
  },
  {
   "cell_type": "markdown",
   "metadata": {},
   "source": [
    "# Looping"
   ]
  },
  {
   "cell_type": "markdown",
   "metadata": {},
   "source": [
    "## While Loop"
   ]
  },
  {
   "cell_type": "code",
   "execution_count": 98,
   "metadata": {},
   "outputs": [
    {
     "name": "stdout",
     "output_type": "stream",
     "text": [
      "nyawa tersisa :  5\n",
      "mario berjalan\n",
      "mario jatuh\n",
      "nyawa tersisa :  4\n",
      "mario berjalan\n",
      "mario jatuh\n",
      "nyawa tersisa :  3\n",
      "mario berjalan\n",
      "mario jatuh\n",
      "nyawa tersisa :  2\n",
      "mario berjalan\n",
      "mario jatuh\n",
      "nyawa tersisa :  1\n",
      "mario berjalan\n",
      "mario jatuh\n"
     ]
    }
   ],
   "source": [
    "nyawa = 5\n",
    "while nyawa > 0:\n",
    "    print(\"nyawa tersisa : \", nyawa)\n",
    "    print(\"mario berjalan\")\n",
    "    print(\"mario jatuh\")\n",
    "    nyawa -= 1 # update var. yang dijadikan kondisi"
   ]
  },
  {
   "cell_type": "code",
   "execution_count": 91,
   "metadata": {},
   "outputs": [],
   "source": [
    "a = 5"
   ]
  },
  {
   "cell_type": "markdown",
   "metadata": {},
   "source": [
    "## continue & break"
   ]
  },
  {
   "cell_type": "code",
   "execution_count": 99,
   "metadata": {},
   "outputs": [
    {
     "name": "stdout",
     "output_type": "stream",
     "text": [
      "nyawa tersisa :  10\n",
      "mario berjalan\n",
      "mario jatuh\n",
      "nyawa tersisa :  9\n",
      "mario berjalan\n",
      "mario jatuh\n",
      "nyawa tersisa :  8\n",
      "mario berjalan\n",
      "mario jatuh\n",
      "nyawa tersisa :  7\n",
      "mario berjalan\n",
      "mario jatuh\n",
      "nyawa tersisa :  6\n",
      "mario berjalan\n",
      "mario jatuh\n"
     ]
    }
   ],
   "source": [
    "nyawa = 10\n",
    "while nyawa > 0:\n",
    "    print(\"nyawa tersisa : \", nyawa)\n",
    "    print(\"mario berjalan\")\n",
    "    print(\"mario jatuh\")\n",
    "    if nyawa == 6:\n",
    "        break\n",
    "    nyawa -= 1 # update var. yang dijadikan kondisi"
   ]
  },
  {
   "cell_type": "code",
   "execution_count": 113,
   "metadata": {},
   "outputs": [
    {
     "name": "stdout",
     "output_type": "stream",
     "text": [
      "nyawa tersisa :  10\n",
      "mario berjalan\n",
      "mario jatuh\n",
      "nyawa tersisa :  9\n",
      "mario berjalan\n",
      "mario jatuh\n",
      "nyawa tersisa :  8\n",
      "mario berjalan\n",
      "mario jatuh\n",
      "nyawa tersisa :  7\n",
      "mario berjalan\n",
      "mario jatuh\n",
      "Bonus ke  3\n",
      "Bonus ke  2\n",
      "Bonus ke  1\n",
      "nyawa tersisa :  6\n",
      "mario berjalan\n",
      "mario jatuh\n",
      "nyawa tersisa :  5\n",
      "mario berjalan\n",
      "mario jatuh\n",
      "nyawa tersisa :  4\n",
      "mario berjalan\n",
      "mario jatuh\n",
      "nyawa tersisa :  3\n",
      "mario berjalan\n",
      "mario jatuh\n",
      "nyawa tersisa :  2\n",
      "mario berjalan\n",
      "mario jatuh\n",
      "nyawa tersisa :  1\n",
      "mario berjalan\n",
      "mario jatuh\n"
     ]
    }
   ],
   "source": [
    "nyawa = 11\n",
    "bonus = 3\n",
    "while nyawa > 1:\n",
    "    nyawa -= 1 # update var. yang dijadikan kondisi\n",
    "    if nyawa == 6:\n",
    "        while bonus > 0:\n",
    "            print(\"Bonus ke \", bonus)\n",
    "            bonus -=1\n",
    "    print(\"nyawa tersisa : \", nyawa)\n",
    "    print(\"mario berjalan\")\n",
    "    print(\"mario jatuh\")\n",
    "    \n",
    "    "
   ]
  },
  {
   "cell_type": "code",
   "execution_count": 109,
   "metadata": {},
   "outputs": [
    {
     "name": "stdout",
     "output_type": "stream",
     "text": [
      "nyawa tersisa :  10\n",
      "mario berjalan\n",
      "mario jatuh\n",
      "nyawa tersisa :  9\n",
      "mario berjalan\n",
      "mario jatuh\n",
      "nyawa tersisa :  8\n",
      "mario berjalan\n",
      "mario jatuh\n",
      "nyawa tersisa :  7\n",
      "mario berjalan\n",
      "mario jatuh\n",
      "nyawa tersisa :  6\n",
      "mario berjalan\n",
      "mario jatuh\n",
      "nyawa tersisa :  5\n",
      "mario berjalan\n",
      "mario jatuh\n",
      "nyawa tersisa :  4\n",
      "mario berjalan\n",
      "mario jatuh\n",
      "nyawa tersisa :  3\n",
      "mario berjalan\n",
      "mario jatuh\n",
      "nyawa tersisa :  2\n",
      "mario berjalan\n",
      "mario jatuh\n",
      "nyawa tersisa :  1\n",
      "mario berjalan\n",
      "mario jatuh\n",
      "Game Over\n"
     ]
    }
   ],
   "source": [
    "nyawa = 10\n",
    "while nyawa > 0:\n",
    "    print(\"nyawa tersisa : \", nyawa)\n",
    "    print(\"mario berjalan\")\n",
    "    print(\"mario jatuh\")\n",
    "    nyawa -= 1 # update var. yang dijadikan kondisi\n",
    "else:\n",
    "    print(\"Game Over\")"
   ]
  },
  {
   "cell_type": "markdown",
   "metadata": {},
   "source": [
    "### for loop"
   ]
  },
  {
   "cell_type": "code",
   "execution_count": 114,
   "metadata": {},
   "outputs": [
    {
     "name": "stdout",
     "output_type": "stream",
     "text": [
      "HP Saya Samsung\n",
      "HP Saya iPhone\n",
      "HP Saya XiaoMi\n",
      "HP Saya Oppo\n",
      "HP Saya Vivo\n"
     ]
    }
   ],
   "source": [
    "merk_hp = ['Samsung', 'iPhone', 'XiaoMi', 'Oppo', 'Vivo']\n",
    "print(\"HP Saya\", merk_hp[0])\n",
    "print(\"HP Saya\", merk_hp[1])\n",
    "print(\"HP Saya\", merk_hp[2])\n",
    "print(\"HP Saya\", merk_hp[3])\n",
    "print(\"HP Saya\", merk_hp[4])"
   ]
  },
  {
   "cell_type": "code",
   "execution_count": 115,
   "metadata": {},
   "outputs": [
    {
     "name": "stdout",
     "output_type": "stream",
     "text": [
      "HP Saya Samsung\n",
      "HP Saya iPhone\n",
      "HP Saya XiaoMi\n",
      "HP Saya Oppo\n",
      "HP Saya Vivo\n"
     ]
    }
   ],
   "source": [
    "for hp in merk_hp:\n",
    "    print(\"HP Saya\", hp)"
   ]
  },
  {
   "cell_type": "code",
   "execution_count": 132,
   "metadata": {},
   "outputs": [
    {
     "name": "stdout",
     "output_type": "stream",
     "text": [
      "HP Saya Samsung\n",
      "HP Saya iPhone\n",
      "HP Saya XiaoMi\n",
      "HP Saya Oppo\n",
      "HP Saya Vivo\n"
     ]
    }
   ],
   "source": [
    "for i in range(len(merk_hp)):\n",
    "    print(\"HP Saya\", merk_hp[i])"
   ]
  },
  {
   "cell_type": "code",
   "execution_count": 129,
   "metadata": {},
   "outputs": [
    {
     "name": "stdout",
     "output_type": "stream",
     "text": [
      "HP Saya Samsung\n",
      "HP Saya iPhone\n",
      "HP Saya XiaoMi\n",
      "HP Saya Oppo\n",
      "HP Saya Vivo\n"
     ]
    }
   ],
   "source": [
    "i = 0\n",
    "while i < len(merk_hp):\n",
    "    print(\"HP Saya\", merk_hp[i])\n",
    "    i += 1"
   ]
  },
  {
   "cell_type": "code",
   "execution_count": null,
   "metadata": {
    "scrolled": false
   },
   "outputs": [],
   "source": [
    "i = 1\n",
    "j = 1\n",
    "while i <= 10:\n",
    "    while j <= 10:\n",
    "        print(\"{a} x {b} = {c}\".format(a=i, b=j, c=i*j))\n",
    "        j += 1\n",
    "    print(\"*\"*10)\n",
    "    i += 1\n",
    "    j = 1"
   ]
  },
  {
   "cell_type": "code",
   "execution_count": 144,
   "metadata": {},
   "outputs": [
    {
     "name": "stdout",
     "output_type": "stream",
     "text": [
      "1 x 1 = 1\n",
      "1 x 2 = 2\n",
      "1 x 3 = 3\n",
      "1 x 4 = 4\n",
      "1 x 5 = 5\n",
      "1 x 6 = 6\n",
      "1 x 7 = 7\n",
      "1 x 8 = 8\n",
      "1 x 9 = 9\n",
      "1 x 10 = 10\n",
      "**********\n",
      "2 x 1 = 2\n",
      "2 x 2 = 4\n",
      "2 x 3 = 6\n",
      "2 x 4 = 8\n",
      "2 x 5 = 10\n",
      "2 x 6 = 12\n",
      "2 x 7 = 14\n",
      "2 x 8 = 16\n",
      "2 x 9 = 18\n",
      "2 x 10 = 20\n",
      "**********\n",
      "3 x 1 = 3\n",
      "3 x 2 = 6\n",
      "3 x 3 = 9\n",
      "3 x 4 = 12\n",
      "3 x 5 = 15\n",
      "3 x 6 = 18\n",
      "3 x 7 = 21\n",
      "3 x 8 = 24\n",
      "3 x 9 = 27\n",
      "3 x 10 = 30\n",
      "**********\n",
      "4 x 1 = 4\n",
      "4 x 2 = 8\n",
      "4 x 3 = 12\n",
      "4 x 4 = 16\n",
      "4 x 5 = 20\n",
      "4 x 6 = 24\n",
      "4 x 7 = 28\n",
      "4 x 8 = 32\n",
      "4 x 9 = 36\n",
      "4 x 10 = 40\n",
      "**********\n",
      "5 x 1 = 5\n",
      "5 x 2 = 10\n",
      "5 x 3 = 15\n",
      "5 x 4 = 20\n",
      "5 x 5 = 25\n",
      "5 x 6 = 30\n",
      "5 x 7 = 35\n",
      "5 x 8 = 40\n",
      "5 x 9 = 45\n",
      "5 x 10 = 50\n",
      "**********\n",
      "6 x 1 = 6\n",
      "6 x 2 = 12\n",
      "6 x 3 = 18\n",
      "6 x 4 = 24\n",
      "6 x 5 = 30\n",
      "6 x 6 = 36\n",
      "6 x 7 = 42\n",
      "6 x 8 = 48\n",
      "6 x 9 = 54\n",
      "6 x 10 = 60\n",
      "**********\n",
      "7 x 1 = 7\n",
      "7 x 2 = 14\n",
      "7 x 3 = 21\n",
      "7 x 4 = 28\n",
      "7 x 5 = 35\n",
      "7 x 6 = 42\n",
      "7 x 7 = 49\n",
      "7 x 8 = 56\n",
      "7 x 9 = 63\n",
      "7 x 10 = 70\n",
      "**********\n",
      "8 x 1 = 8\n",
      "8 x 2 = 16\n",
      "8 x 3 = 24\n",
      "8 x 4 = 32\n",
      "8 x 5 = 40\n",
      "8 x 6 = 48\n",
      "8 x 7 = 56\n",
      "8 x 8 = 64\n",
      "8 x 9 = 72\n",
      "8 x 10 = 80\n",
      "**********\n",
      "9 x 1 = 9\n",
      "9 x 2 = 18\n",
      "9 x 3 = 27\n",
      "9 x 4 = 36\n",
      "9 x 5 = 45\n",
      "9 x 6 = 54\n",
      "9 x 7 = 63\n",
      "9 x 8 = 72\n",
      "9 x 9 = 81\n",
      "9 x 10 = 90\n",
      "**********\n",
      "10 x 1 = 10\n",
      "10 x 2 = 20\n",
      "10 x 3 = 30\n",
      "10 x 4 = 40\n",
      "10 x 5 = 50\n",
      "10 x 6 = 60\n",
      "10 x 7 = 70\n",
      "10 x 8 = 80\n",
      "10 x 9 = 90\n",
      "10 x 10 = 100\n",
      "**********\n"
     ]
    }
   ],
   "source": [
    "for i in range(1, 11):\n",
    "    for j in range(1, 11):\n",
    "        print(\"{a} x {b} = {c}\".format(a=i, b=j, c=i*j))\n",
    "    print(\"*\"*10)"
   ]
  },
  {
   "cell_type": "code",
   "execution_count": null,
   "metadata": {},
   "outputs": [],
   "source": []
  }
 ],
 "metadata": {
  "kernelspec": {
   "display_name": "Python 3",
   "language": "python",
   "name": "python3"
  },
  "language_info": {
   "codemirror_mode": {
    "name": "ipython",
    "version": 3
   },
   "file_extension": ".py",
   "mimetype": "text/x-python",
   "name": "python",
   "nbconvert_exporter": "python",
   "pygments_lexer": "ipython3",
   "version": "3.8.3"
  }
 },
 "nbformat": 4,
 "nbformat_minor": 4
}
